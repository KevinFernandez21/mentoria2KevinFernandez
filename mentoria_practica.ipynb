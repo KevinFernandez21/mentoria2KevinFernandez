{
 "cells": [
  {
   "cell_type": "code",
   "execution_count": 1,
   "id": "ee0e9097",
   "metadata": {},
   "outputs": [],
   "source": [
    "import datetime\n",
    "fecha_actual = datetime.datetime.now()"
   ]
  },
  {
   "cell_type": "code",
   "execution_count": 2,
   "id": "a0042bee",
   "metadata": {},
   "outputs": [],
   "source": [
    "CUENTAS = { \n",
    "\"Angelo1001\": {\"pin\": \"1234\", \"saldo\": 500, \"historial\": []},\n",
    " \"Dhamar1002\": {\"pin\": \"5678\", \"saldo\": 1200, \"historial\": []},\n",
    " \"Kevin1003\": {\"pin\": \"1111\", \"saldo\": 1000, \"historial\": []}\n",
    " }"
   ]
  },
  {
   "cell_type": "code",
   "execution_count": 3,
   "id": "457e82a5",
   "metadata": {},
   "outputs": [],
   "source": [
    "def login(): \n",
    "    contador = 0\n",
    "    while contador < 3:\n",
    "        usuario = input(\"Ingrese su usuario: \")\n",
    "        pin = input(\"Ingrese su pin: \")\n",
    "        if validacion(CUENTAS,usuario,pin):\n",
    "            return usuario\n",
    "        else:\n",
    "            usuario = \"\"\n",
    "            contador += 1\n",
    "    return None"
   ]
  },
  {
   "cell_type": "code",
   "execution_count": 4,
   "id": "8d16c642",
   "metadata": {},
   "outputs": [],
   "source": [
    "def validacion(diccionario,usuario,contrasena):\n",
    "    if usuario in diccionario and diccionario[usuario][\"pin\"] == contrasena:\n",
    "        return True\n",
    "    else:\n",
    "        return False"
   ]
  },
  {
   "cell_type": "code",
   "execution_count": 5,
   "id": "cf5a24e6",
   "metadata": {},
   "outputs": [],
   "source": [
    "def consultar_saldo(diccionario,usuario):\n",
    "    \"\"\"Funcion que consulta el saldo de un usuario\n",
    "    Entradas\n",
    "        diccionario: blablaba\n",
    "        usuario: blablabla\n",
    "    Salidas\n",
    "        saldo: blablabla\n",
    "    \"\"\"\n",
    "    return diccionario[usuario][\"saldo\"] \n"
   ]
  },
  {
   "cell_type": "code",
   "execution_count": 6,
   "id": "60a12e5d",
   "metadata": {},
   "outputs": [
    {
     "data": {
      "text/plain": [
       "1000"
      ]
     },
     "execution_count": 6,
     "metadata": {},
     "output_type": "execute_result"
    }
   ],
   "source": [
    "consultar_saldo(CUENTAS,'Kevin1003')"
   ]
  },
  {
   "cell_type": "code",
   "execution_count": 7,
   "id": "af8279d5",
   "metadata": {},
   "outputs": [],
   "source": [
    "def depositar(usuario,diccionario):\n",
    "    \"\"\"Funcion que deposita dinero en la cuenta de un usuario\"\"\"\n",
    "    beneficiario = input(\"Ingrese las persona beneficiaria: \")\n",
    "    if beneficiario in diccionario:\n",
    "        deposito = monto_validador()\n",
    "        diccionario[usuario][\"saldo\"] += deposito\n",
    "        almacenar_historial(diccionario,usuario,\"deposito\",deposito,beneficiario,fecha_actual)\n",
    "    else:\n",
    "        print(\"El beneficiario no existe\")\n",
    "    "
   ]
  },
  {
   "cell_type": "code",
   "execution_count": 8,
   "id": "ee753029",
   "metadata": {},
   "outputs": [],
   "source": [
    "def monto_validador():\n",
    "    monto = float(input(\"Ingrese el monto a depositar: \"))\n",
    "    while monto < 0:\n",
    "        monto = float(input(\"Ingrese el monto a depositar: \"))\n",
    "    return monto"
   ]
  },
  {
   "cell_type": "code",
   "execution_count": 9,
   "id": "0468e9d5",
   "metadata": {},
   "outputs": [],
   "source": [
    "def almacenar_historial(diccionario,usuario,tipo_movimient,monto,beneficiario,fecha):\n",
    "    diccionario[usuario][\"historial\"].append((tipo_movimient,monto,beneficiario,fecha))\n",
    "    "
   ]
  },
  {
   "cell_type": "code",
   "execution_count": 10,
   "id": "8fa18420",
   "metadata": {},
   "outputs": [],
   "source": [
    "def retirar(usuario,diccionario):\n",
    "    \"\"\"Funcion que retira dinero de la cuenta de un usuario\"\"\"\n",
    "    monto = monto_validador()\n",
    "    if monto > diccionario[usuario][\"saldo\"]:\n",
    "        print(\"No tienes saldo suficiente\")\n",
    "    else:\n",
    "        diccionario[usuario][\"saldo\"] -= monto\n",
    "        almacenar_historial(diccionario,usuario,\"retiro\",monto,usuario,fecha_actual)"
   ]
  },
  {
   "cell_type": "code",
   "execution_count": 11,
   "id": "be03241b",
   "metadata": {},
   "outputs": [],
   "source": [
    "def transferencia(usuario,diccionario):\n",
    "    \"\"\"Funcion que realiza una transferencia entre dos usuarios\"\"\"\n",
    "    beneficiario = input(\"Ingrese el usuario beneficiario: \")\n",
    "    if beneficiario in diccionario:\n",
    "        monto = monto_validador()\n",
    "        if monto > diccionario[usuario][\"saldo\"]:\n",
    "            print(\"No tienes saldo suficiente\")\n",
    "        else:\n",
    "            diccionario[usuario][\"saldo\"] -= monto\n",
    "            diccionario[beneficiario][\"saldo\"] += monto\n",
    "            almacenar_historial(diccionario,usuario,\"transferencia\",monto,beneficiario,fecha_actual)\n",
    "            almacenar_historial(diccionario,beneficiario,\"transferencia\",monto,usuario,fecha_actual)\n",
    "    else:\n",
    "        print(\"El beneficiario no existe\")"
   ]
  },
  {
   "cell_type": "code",
   "execution_count": null,
   "id": "57a0c22d",
   "metadata": {},
   "outputs": [],
   "source": [
    "def mostrar_historial(usuario,diccionario):\n",
    "    print(\"Historial de {}\".format(usuario))\n",
    "    historial = diccionario[usuario][\"historial\"]\n",
    "    print(\"Tipo de movimiento | Monto | Beneficiario | Fecha\")\n",
    "    for movimiento in historial:\n",
    "        print(\"{} | {} | {} | {}\".format(movimiento[0],movimiento[1],movimiento[2],movimiento[3]))\n",
    "        print(f\"{movimiento[0]} | {movimiento[1]} | {movimiento[2]} | {movimiento[3]}\")"
   ]
  },
  {
   "cell_type": "code",
   "execution_count": null,
   "id": "1cc9f851",
   "metadata": {},
   "outputs": [],
   "source": [
    "def menu_inicio():\n",
    "    while True:\n",
    "        print(\"\\nMenu\")\n",
    "        print(\"1. Iniciar sesion\")\n",
    "        pritn(\"2. Crear cuenta\")\n",
    "        print(\"3. Salir\")\n",
    "        opcion = input(\"Ingrese una opcion: \")\n",
    "        if opcion == \"1\":\n",
    "            usario_captado = login()\n",
    "            menu_desplegado(usario_captado)\n",
    "        elif opcion == \"2\":\n",
    "            break"
   ]
  },
  {
   "cell_type": "code",
   "execution_count": null,
   "id": "fcf37fbd",
   "metadata": {},
   "outputs": [],
   "source": [
    "def menu_desplegado(usuario):\n",
    "    while True:\n",
    "        print(\"\"\"\n",
    "            Bienvenido al sistema bancario\n",
    "            1. Mostrar Saldo\n",
    "            2. Retirar dinero\n",
    "            3. Depositar dinero\n",
    "            4. Transferir dinero\n",
    "            5. Mostrar historial\n",
    "            6. Salir\n",
    "        \"\"\")\n",
    "        opcion = input(\"Ingrese una opcion: \")\n",
    "        if opcion == \"1\":\n",
    "            print(consultar_saldo(CUENTAS,usuario))\n",
    "        elif opcion == \"2\":\n",
    "            retirar(usuario,CUENTAS)\n",
    "        elif opcion == \"3\":\n",
    "            depositar(usuario,CUENTAS)\n",
    "        elif opcion == \"4\":\n",
    "            transferencia(usuario,CUENTAS)\n",
    "        elif opcion == \"5\":\n",
    "            mostrar_historial(usuario,CUENTAS)\n",
    "        elif opcion == \"6\":\n",
    "            break"
   ]
  },
  {
   "cell_type": "code",
   "execution_count": null,
   "id": "ceb90fee",
   "metadata": {},
   "outputs": [],
   "source": [
    "def menu_desplegado(usuario):\n",
    "    while True:\n",
    "        print(\"\"\"\n",
    "            Bienvenido al sistema bancario\n",
    "            1. Mostrar Saldo\n",
    "            2. Retirar dinero\n",
    "            3. Depositar dinero\n",
    "            4. Transferir dinero\n",
    "            5. Mostrar historial\n",
    "            6. Salir\n",
    "        \"\"\")\n",
    "        opcion = input(\"Ingrese una opcion: \")\n",
    "        match opcion:\n",
    "            case \"1\":\n",
    "                consultar_saldo(CUENTAS,usuario)\n",
    "            case \"2\":\n",
    "                retirar(usuario,CUENTAS)\n",
    "            case \"3\":\n",
    "                depositar(usuario,CUENTAS)\n",
    "            case \"4\":\n",
    "                transferir(usuario,CUENTAS)\n",
    "            case \"5\":\n",
    "                mostrar_historial(usuario,CUENTAS)\n",
    "        print(\"Por favor, ingrese un numero valido\")\n",
    "    \n",
    "        "
   ]
  },
  {
   "cell_type": "code",
   "execution_count": null,
   "id": "9734e4cb",
   "metadata": {},
   "outputs": [],
   "source": [
    "def menu_desplegado(usuario):\n",
    "    while True:\n",
    "        opcion = input(\"Ingrese una opcion: \")\n",
    "        match opcion:\n",
    "            case \"1\":\n",
    "                consultar_saldo(CUENTAS,usuario)\n",
    "            case \"2\":\n",
    "                retirar(usuario,CUENTAS)\n",
    "            case \"3\":\n",
    "                depositar(usuario,CUENTAS)\n",
    "            case \"4\":\n",
    "                transferir(usuario,CUENTAS)\n",
    "            case \"5\":\n",
    "                mostrar_historial(usuario,CUENTAS)\n",
    "        print(\"Por favor, ingrese un numero valido\")\n",
    "    \n",
    "        "
   ]
  },
  {
   "cell_type": "code",
   "execution_count": 16,
   "id": "16cf61d2",
   "metadata": {},
   "outputs": [
    {
     "name": "stdout",
     "output_type": "stream",
     "text": [
      "\n",
      "Menu\n",
      "1. Iniciar sesion\n",
      "2. Salir\n",
      "\n",
      "            Bienvenido al sistema bancario\n",
      "            1. Mostrar Saldo\n",
      "            2. Retirar dinero\n",
      "            3. Depositar dinero\n",
      "            4. Transferir dinero\n",
      "            5. Mostrar historial\n",
      "            6. Salir\n",
      "        \n",
      "\n",
      "            Bienvenido al sistema bancario\n",
      "            1. Mostrar Saldo\n",
      "            2. Retirar dinero\n",
      "            3. Depositar dinero\n",
      "            4. Transferir dinero\n",
      "            5. Mostrar historial\n",
      "            6. Salir\n",
      "        \n",
      "Historial de Kevin1003\n",
      "Tipo de movimiento | Monto | Beneficiario | Fecha\n",
      "retiro | 100.0 | Kevin1003 | 2025-10-07 16:22:48.286180\n",
      "\n",
      "            Bienvenido al sistema bancario\n",
      "            1. Mostrar Saldo\n",
      "            2. Retirar dinero\n",
      "            3. Depositar dinero\n",
      "            4. Transferir dinero\n",
      "            5. Mostrar historial\n",
      "            6. Salir\n",
      "        \n",
      "900.0\n",
      "\n",
      "            Bienvenido al sistema bancario\n",
      "            1. Mostrar Saldo\n",
      "            2. Retirar dinero\n",
      "            3. Depositar dinero\n",
      "            4. Transferir dinero\n",
      "            5. Mostrar historial\n",
      "            6. Salir\n",
      "        \n",
      "\n",
      "Menu\n",
      "1. Iniciar sesion\n",
      "2. Salir\n"
     ]
    }
   ],
   "source": [
    "menu_inicio()"
   ]
  }
 ],
 "metadata": {
  "kernelspec": {
   "display_name": "NASA2025",
   "language": "python",
   "name": "python3"
  },
  "language_info": {
   "codemirror_mode": {
    "name": "ipython",
    "version": 3
   },
   "file_extension": ".py",
   "mimetype": "text/x-python",
   "name": "python",
   "nbconvert_exporter": "python",
   "pygments_lexer": "ipython3",
   "version": "3.10.18"
  }
 },
 "nbformat": 4,
 "nbformat_minor": 5
}
